{
  "nbformat": 4,
  "nbformat_minor": 0,
  "metadata": {
    "colab": {
      "name": "COVID-US-Counties.ipynb",
      "provenance": [],
      "collapsed_sections": [],
      "authorship_tag": "ABX9TyMoG9aQgxi1WkVSp6nYvW7j",
      "include_colab_link": true
    },
    "kernelspec": {
      "name": "python3",
      "display_name": "Python 3"
    }
  },
  "cells": [
    {
      "cell_type": "markdown",
      "metadata": {
        "id": "view-in-github",
        "colab_type": "text"
      },
      "source": [
        "<a href=\"https://colab.research.google.com/github/microprediction/PDCI/blob/master/COVID_US_Counties.ipynb\" target=\"_parent\"><img src=\"https://colab.research.google.com/assets/colab-badge.svg\" alt=\"Open In Colab\"/></a>"
      ]
    },
    {
      "cell_type": "code",
      "metadata": {
        "id": "wppnHYNLBjcJ",
        "colab_type": "code",
        "colab": {}
      },
      "source": [
        "import pandas as pd\n",
        "import requests, json\n",
        "import matplotlib.pyplot as plt"
      ],
      "execution_count": 2,
      "outputs": []
    },
    {
      "cell_type": "markdown",
      "metadata": {
        "id": "_jsOEz-vPvsO",
        "colab_type": "text"
      },
      "source": [
        "Joins census and covid case counts for US counties "
      ]
    },
    {
      "cell_type": "markdown",
      "metadata": {
        "id": "edQFRy4XQPUO",
        "colab_type": "text"
      },
      "source": [
        "First we'll grab the county level data from the census. You can also try a pandas.read_csv directly if you like, though you'll have to be careful not to mangle the data and headings. "
      ]
    },
    {
      "cell_type": "code",
      "metadata": {
        "id": "mw7a2zrGGCAO",
        "colab_type": "code",
        "colab": {
          "base_uri": "https://localhost:8080/",
          "height": 127
        },
        "outputId": "3282543e-50e9-42dc-bdbe-33c7af07eafb"
      },
      "source": [
        "census_data = requests.get('https://api.census.gov/data/2019/pep/population?get=DENSITY,POP,NAME&for=county:*').json()\n",
        "headings = [ h.lower() for h in census_data[0]]\n",
        "print(headings)\n",
        "census = pd.DataFrame(columns=headings, data=census_data[1:])\n",
        "census[:2]"
      ],
      "execution_count": 4,
      "outputs": [
        {
          "output_type": "stream",
          "text": [
            "['density', 'pop', 'name', 'state', 'county']\n"
          ],
          "name": "stdout"
        },
        {
          "output_type": "execute_result",
          "data": {
            "text/html": [
              "<div>\n",
              "<style scoped>\n",
              "    .dataframe tbody tr th:only-of-type {\n",
              "        vertical-align: middle;\n",
              "    }\n",
              "\n",
              "    .dataframe tbody tr th {\n",
              "        vertical-align: top;\n",
              "    }\n",
              "\n",
              "    .dataframe thead th {\n",
              "        text-align: right;\n",
              "    }\n",
              "</style>\n",
              "<table border=\"1\" class=\"dataframe\">\n",
              "  <thead>\n",
              "    <tr style=\"text-align: right;\">\n",
              "      <th></th>\n",
              "      <th>density</th>\n",
              "      <th>pop</th>\n",
              "      <th>name</th>\n",
              "      <th>state</th>\n",
              "      <th>county</th>\n",
              "    </tr>\n",
              "  </thead>\n",
              "  <tbody>\n",
              "    <tr>\n",
              "      <th>0</th>\n",
              "      <td>104.00162297</td>\n",
              "      <td>45756</td>\n",
              "      <td>McDowell County, North Carolina</td>\n",
              "      <td>37</td>\n",
              "      <td>111</td>\n",
              "    </tr>\n",
              "    <tr>\n",
              "      <th>1</th>\n",
              "      <td>141.69366231</td>\n",
              "      <td>69685</td>\n",
              "      <td>Franklin County, North Carolina</td>\n",
              "      <td>37</td>\n",
              "      <td>069</td>\n",
              "    </tr>\n",
              "  </tbody>\n",
              "</table>\n",
              "</div>"
            ],
            "text/plain": [
              "        density    pop                             name state county\n",
              "0  104.00162297  45756  McDowell County, North Carolina    37    111\n",
              "1  141.69366231  69685  Franklin County, North Carolina    37    069"
            ]
          },
          "metadata": {
            "tags": []
          },
          "execution_count": 4
        }
      ]
    },
    {
      "cell_type": "markdown",
      "metadata": {
        "id": "Wz9wqeBwP9Wm",
        "colab_type": "text"
      },
      "source": [
        "Next we will get some county level census data. Good luck here as the API is a bit wobbly in my experience. "
      ]
    },
    {
      "cell_type": "code",
      "metadata": {
        "id": "54lmiHmOB0gG",
        "colab_type": "code",
        "colab": {
          "base_uri": "https://localhost:8080/",
          "height": 141
        },
        "outputId": "39c3572f-a51d-4800-8a4d-4b8b2c01439b"
      },
      "source": [
        "cases = pd.read_csv('https://raw.githubusercontent.com/nytimes/covid-19-data/master/us-counties.csv')\n",
        "cases[:3]"
      ],
      "execution_count": 37,
      "outputs": [
        {
          "output_type": "execute_result",
          "data": {
            "text/html": [
              "<div>\n",
              "<style scoped>\n",
              "    .dataframe tbody tr th:only-of-type {\n",
              "        vertical-align: middle;\n",
              "    }\n",
              "\n",
              "    .dataframe tbody tr th {\n",
              "        vertical-align: top;\n",
              "    }\n",
              "\n",
              "    .dataframe thead th {\n",
              "        text-align: right;\n",
              "    }\n",
              "</style>\n",
              "<table border=\"1\" class=\"dataframe\">\n",
              "  <thead>\n",
              "    <tr style=\"text-align: right;\">\n",
              "      <th></th>\n",
              "      <th>date</th>\n",
              "      <th>county</th>\n",
              "      <th>state</th>\n",
              "      <th>fips</th>\n",
              "      <th>cases</th>\n",
              "      <th>deaths</th>\n",
              "    </tr>\n",
              "  </thead>\n",
              "  <tbody>\n",
              "    <tr>\n",
              "      <th>0</th>\n",
              "      <td>2020-01-21</td>\n",
              "      <td>Snohomish</td>\n",
              "      <td>Washington</td>\n",
              "      <td>53061.0</td>\n",
              "      <td>1</td>\n",
              "      <td>0</td>\n",
              "    </tr>\n",
              "    <tr>\n",
              "      <th>1</th>\n",
              "      <td>2020-01-22</td>\n",
              "      <td>Snohomish</td>\n",
              "      <td>Washington</td>\n",
              "      <td>53061.0</td>\n",
              "      <td>1</td>\n",
              "      <td>0</td>\n",
              "    </tr>\n",
              "    <tr>\n",
              "      <th>2</th>\n",
              "      <td>2020-01-23</td>\n",
              "      <td>Snohomish</td>\n",
              "      <td>Washington</td>\n",
              "      <td>53061.0</td>\n",
              "      <td>1</td>\n",
              "      <td>0</td>\n",
              "    </tr>\n",
              "  </tbody>\n",
              "</table>\n",
              "</div>"
            ],
            "text/plain": [
              "         date     county       state     fips  cases  deaths\n",
              "0  2020-01-21  Snohomish  Washington  53061.0      1       0\n",
              "1  2020-01-22  Snohomish  Washington  53061.0      1       0\n",
              "2  2020-01-23  Snohomish  Washington  53061.0      1       0"
            ]
          },
          "metadata": {
            "tags": []
          },
          "execution_count": 37
        }
      ]
    },
    {
      "cell_type": "code",
      "metadata": {
        "id": "X9LqPrfiVfPT",
        "colab_type": "code",
        "colab": {
          "base_uri": "https://localhost:8080/",
          "height": 35
        },
        "outputId": "2372f8b7-5abc-49cc-ce7c-53f3477ebd98"
      },
      "source": [
        "len(cases)"
      ],
      "execution_count": 28,
      "outputs": [
        {
          "output_type": "execute_result",
          "data": {
            "text/plain": [
              "310256"
            ]
          },
          "metadata": {
            "tags": []
          },
          "execution_count": 28
        }
      ]
    },
    {
      "cell_type": "markdown",
      "metadata": {
        "id": "gByltH-cUAH_",
        "colab_type": "text"
      },
      "source": [
        "Poking around the case cound data a little ..."
      ]
    },
    {
      "cell_type": "code",
      "metadata": {
        "id": "PaZkmwtxMkax",
        "colab_type": "code",
        "colab": {
          "base_uri": "https://localhost:8080/",
          "height": 225
        },
        "outputId": "e1166908-448a-47ad-c7b3-f01ace226b85"
      },
      "source": [
        "cases['county'].value_counts()"
      ],
      "execution_count": 29,
      "outputs": [
        {
          "output_type": "execute_result",
          "data": {
            "text/plain": [
              "Washington    3321\n",
              "Unknown       2977\n",
              "Jefferson     2767\n",
              "Franklin      2607\n",
              "Jackson       2391\n",
              "              ... \n",
              "Gilliam          5\n",
              "Haakon           3\n",
              "Kingman          3\n",
              "Towner           2\n",
              "Hickory          1\n",
              "Name: county, Length: 1814, dtype: int64"
            ]
          },
          "metadata": {
            "tags": []
          },
          "execution_count": 29
        }
      ]
    },
    {
      "cell_type": "code",
      "metadata": {
        "id": "WY_Na4MRZfgH",
        "colab_type": "code",
        "colab": {
          "base_uri": "https://localhost:8080/",
          "height": 299
        },
        "outputId": "38f54cc4-88f1-44a8-850d-cb1f65488fe4"
      },
      "source": [
        "nyc = cases.loc[cases['county']=='New York City',:]\n",
        "nyc.plot(title='New York City')\n"
      ],
      "execution_count": 30,
      "outputs": [
        {
          "output_type": "execute_result",
          "data": {
            "text/plain": [
              "<matplotlib.axes._subplots.AxesSubplot at 0x7f874d84cf98>"
            ]
          },
          "metadata": {
            "tags": []
          },
          "execution_count": 30
        },
        {
          "output_type": "display_data",
          "data": {
            "image/png": "[encoded data removed]",
            "text/plain": [
              "<Figure size 432x288 with 1 Axes>"
            ]
          },
          "metadata": {
            "tags": [],
            "needs_background": "light"
          }
        }
      ]
    },
    {
      "cell_type": "markdown",
      "metadata": {
        "id": "Pk619unLUdV5",
        "colab_type": "text"
      },
      "source": [
        "On the other hand..."
      ]
    },
    {
      "cell_type": "code",
      "metadata": {
        "id": "QmRKhBIiaNoS",
        "colab_type": "code",
        "colab": {
          "base_uri": "https://localhost:8080/",
          "height": 283
        },
        "outputId": "c30cca44-cf8f-444a-a879-7430ad45b861"
      },
      "source": [
        "jackson = cases.loc[cases['county']=='Jackson',:]\n",
        "jackson.plot()"
      ],
      "execution_count": 31,
      "outputs": [
        {
          "output_type": "execute_result",
          "data": {
            "text/plain": [
              "<matplotlib.axes._subplots.AxesSubplot at 0x7f874ec872e8>"
            ]
          },
          "metadata": {
            "tags": []
          },
          "execution_count": 31
        },
        {
          "output_type": "display_data",
          "data": {
            "image/png": "[encoded data removed]",
            "text/plain": [
              "<Figure size 432x288 with 1 Axes>"
            ]
          },
          "metadata": {
            "tags": [],
            "needs_background": "light"
          }
        }
      ]
    },
    {
      "cell_type": "markdown",
      "metadata": {
        "id": "ma-EbiNTUcRL",
        "colab_type": "text"
      },
      "source": [
        "So we should be a little careful. Let's include state in the name of the county and prepare to join with census data\n"
      ]
    },
    {
      "cell_type": "code",
      "metadata": {
        "id": "i8NGxO0PPMj9",
        "colab_type": "code",
        "colab": {}
      },
      "source": [
        "cases['name'] = [ county+', '+state for county, state in zip(cases['county'].values,cases['state'].values)]\n",
        "del cases['county']\n",
        "del cases['state']\n",
        "sorted_cases = cases[:len(cases)].sort_values(by=['name','date'],inplace=False)"
      ],
      "execution_count": 38,
      "outputs": []
    },
    {
      "cell_type": "markdown",
      "metadata": {
        "id": "ahDmHWyvVOeN",
        "colab_type": "text"
      },
      "source": [
        "If you just want the current situation, drop all be the last"
      ]
    },
    {
      "cell_type": "code",
      "metadata": {
        "id": "_6N6eBJdPdkQ",
        "colab_type": "code",
        "colab": {}
      },
      "source": [
        "recent_cases = sorted_cases.drop_duplicates(subset=['name'],keep='last')"
      ],
      "execution_count": 39,
      "outputs": []
    },
    {
      "cell_type": "code",
      "metadata": {
        "id": "zt_FH517RW_y",
        "colab_type": "code",
        "colab": {
          "base_uri": "https://localhost:8080/",
          "height": 202
        },
        "outputId": "5a2bfd01-9155-4098-bbf7-f5c85ac63bad"
      },
      "source": [
        "recent_cases[:5]"
      ],
      "execution_count": 40,
      "outputs": [
        {
          "output_type": "execute_result",
          "data": {
            "text/html": [
              "<div>\n",
              "<style scoped>\n",
              "    .dataframe tbody tr th:only-of-type {\n",
              "        vertical-align: middle;\n",
              "    }\n",
              "\n",
              "    .dataframe tbody tr th {\n",
              "        vertical-align: top;\n",
              "    }\n",
              "\n",
              "    .dataframe thead th {\n",
              "        text-align: right;\n",
              "    }\n",
              "</style>\n",
              "<table border=\"1\" class=\"dataframe\">\n",
              "  <thead>\n",
              "    <tr style=\"text-align: right;\">\n",
              "      <th></th>\n",
              "      <th>date</th>\n",
              "      <th>fips</th>\n",
              "      <th>cases</th>\n",
              "      <th>deaths</th>\n",
              "      <th>name</th>\n",
              "    </tr>\n",
              "  </thead>\n",
              "  <tbody>\n",
              "    <tr>\n",
              "      <th>309440</th>\n",
              "      <td>2020-07-08</td>\n",
              "      <td>45001.0</td>\n",
              "      <td>137</td>\n",
              "      <td>1</td>\n",
              "      <td>Abbeville, South Carolina</td>\n",
              "    </tr>\n",
              "    <tr>\n",
              "      <th>308266</th>\n",
              "      <td>2020-07-08</td>\n",
              "      <td>22001.0</td>\n",
              "      <td>1094</td>\n",
              "      <td>44</td>\n",
              "      <td>Acadia, Louisiana</td>\n",
              "    </tr>\n",
              "    <tr>\n",
              "      <th>309935</th>\n",
              "      <td>2020-07-08</td>\n",
              "      <td>51001.0</td>\n",
              "      <td>1042</td>\n",
              "      <td>14</td>\n",
              "      <td>Accomack, Virginia</td>\n",
              "    </tr>\n",
              "    <tr>\n",
              "      <th>307711</th>\n",
              "      <td>2020-07-08</td>\n",
              "      <td>16001.0</td>\n",
              "      <td>3431</td>\n",
              "      <td>23</td>\n",
              "      <td>Ada, Idaho</td>\n",
              "    </tr>\n",
              "    <tr>\n",
              "      <th>307948</th>\n",
              "      <td>2020-07-08</td>\n",
              "      <td>19001.0</td>\n",
              "      <td>17</td>\n",
              "      <td>0</td>\n",
              "      <td>Adair, Iowa</td>\n",
              "    </tr>\n",
              "  </tbody>\n",
              "</table>\n",
              "</div>"
            ],
            "text/plain": [
              "              date     fips  cases  deaths                       name\n",
              "309440  2020-07-08  45001.0    137       1  Abbeville, South Carolina\n",
              "308266  2020-07-08  22001.0   1094      44          Acadia, Louisiana\n",
              "309935  2020-07-08  51001.0   1042      14         Accomack, Virginia\n",
              "307711  2020-07-08  16001.0   3431      23                 Ada, Idaho\n",
              "307948  2020-07-08  19001.0     17       0                Adair, Iowa"
            ]
          },
          "metadata": {
            "tags": []
          },
          "execution_count": 40
        }
      ]
    },
    {
      "cell_type": "code",
      "metadata": {
        "id": "2mFGgqBeQs9p",
        "colab_type": "code",
        "colab": {
          "base_uri": "https://localhost:8080/",
          "height": 35
        },
        "outputId": "42f7b9b5-5398-4b09-aa4a-4a4fa44e25f7"
      },
      "source": [
        "len(recent_cases)"
      ],
      "execution_count": 41,
      "outputs": [
        {
          "output_type": "execute_result",
          "data": {
            "text/plain": [
              "3118"
            ]
          },
          "metadata": {
            "tags": []
          },
          "execution_count": 41
        }
      ]
    },
    {
      "cell_type": "markdown",
      "metadata": {
        "id": "docrwyKEQjf5",
        "colab_type": "text"
      },
      "source": [
        "Merge on county name"
      ]
    },
    {
      "cell_type": "code",
      "metadata": {
        "id": "CnxAHzuTexm-",
        "colab_type": "code",
        "colab": {}
      },
      "source": [
        "census['name'] = [ n.replace(' County','').replace(' Parish','') for n in census['name'].values]"
      ],
      "execution_count": 42,
      "outputs": []
    },
    {
      "cell_type": "code",
      "metadata": {
        "id": "RJYVcEHMe9E7",
        "colab_type": "code",
        "colab": {
          "base_uri": "https://localhost:8080/",
          "height": 141
        },
        "outputId": "5883b2e1-46d4-4e80-ed72-1f8f487b869b"
      },
      "source": [
        "census[:3]"
      ],
      "execution_count": 43,
      "outputs": [
        {
          "output_type": "execute_result",
          "data": {
            "text/html": [
              "<div>\n",
              "<style scoped>\n",
              "    .dataframe tbody tr th:only-of-type {\n",
              "        vertical-align: middle;\n",
              "    }\n",
              "\n",
              "    .dataframe tbody tr th {\n",
              "        vertical-align: top;\n",
              "    }\n",
              "\n",
              "    .dataframe thead th {\n",
              "        text-align: right;\n",
              "    }\n",
              "</style>\n",
              "<table border=\"1\" class=\"dataframe\">\n",
              "  <thead>\n",
              "    <tr style=\"text-align: right;\">\n",
              "      <th></th>\n",
              "      <th>density</th>\n",
              "      <th>pop</th>\n",
              "      <th>name</th>\n",
              "      <th>state</th>\n",
              "      <th>county</th>\n",
              "    </tr>\n",
              "  </thead>\n",
              "  <tbody>\n",
              "    <tr>\n",
              "      <th>0</th>\n",
              "      <td>104.00162297</td>\n",
              "      <td>45756</td>\n",
              "      <td>McDowell, North Carolina</td>\n",
              "      <td>37</td>\n",
              "      <td>111</td>\n",
              "    </tr>\n",
              "    <tr>\n",
              "      <th>1</th>\n",
              "      <td>141.69366231</td>\n",
              "      <td>69685</td>\n",
              "      <td>Franklin, North Carolina</td>\n",
              "      <td>37</td>\n",
              "      <td>069</td>\n",
              "    </tr>\n",
              "    <tr>\n",
              "      <th>2</th>\n",
              "      <td>264.5772215</td>\n",
              "      <td>209339</td>\n",
              "      <td>Johnston, North Carolina</td>\n",
              "      <td>37</td>\n",
              "      <td>101</td>\n",
              "    </tr>\n",
              "  </tbody>\n",
              "</table>\n",
              "</div>"
            ],
            "text/plain": [
              "        density     pop                      name state county\n",
              "0  104.00162297   45756  McDowell, North Carolina    37    111\n",
              "1  141.69366231   69685  Franklin, North Carolina    37    069\n",
              "2   264.5772215  209339  Johnston, North Carolina    37    101"
            ]
          },
          "metadata": {
            "tags": []
          },
          "execution_count": 43
        }
      ]
    },
    {
      "cell_type": "code",
      "metadata": {
        "id": "we-Fj1TeC1IC",
        "colab_type": "code",
        "colab": {}
      },
      "source": [
        "merged = recent_cases.merge(census,on=[\"name\"])"
      ],
      "execution_count": 44,
      "outputs": []
    },
    {
      "cell_type": "code",
      "metadata": {
        "id": "RqHeD6zHKLvd",
        "colab_type": "code",
        "colab": {
          "base_uri": "https://localhost:8080/",
          "height": 171
        },
        "outputId": "36a988fc-b40f-492c-b329-1b32fe3cab30"
      },
      "source": [
        "merged[:4]"
      ],
      "execution_count": 45,
      "outputs": [
        {
          "output_type": "execute_result",
          "data": {
            "text/html": [
              "<div>\n",
              "<style scoped>\n",
              "    .dataframe tbody tr th:only-of-type {\n",
              "        vertical-align: middle;\n",
              "    }\n",
              "\n",
              "    .dataframe tbody tr th {\n",
              "        vertical-align: top;\n",
              "    }\n",
              "\n",
              "    .dataframe thead th {\n",
              "        text-align: right;\n",
              "    }\n",
              "</style>\n",
              "<table border=\"1\" class=\"dataframe\">\n",
              "  <thead>\n",
              "    <tr style=\"text-align: right;\">\n",
              "      <th></th>\n",
              "      <th>date</th>\n",
              "      <th>fips</th>\n",
              "      <th>cases</th>\n",
              "      <th>deaths</th>\n",
              "      <th>name</th>\n",
              "      <th>density</th>\n",
              "      <th>pop</th>\n",
              "      <th>state</th>\n",
              "      <th>county</th>\n",
              "    </tr>\n",
              "  </thead>\n",
              "  <tbody>\n",
              "    <tr>\n",
              "      <th>0</th>\n",
              "      <td>2020-07-08</td>\n",
              "      <td>45001.0</td>\n",
              "      <td>137</td>\n",
              "      <td>1</td>\n",
              "      <td>Abbeville, South Carolina</td>\n",
              "      <td>49.909760456</td>\n",
              "      <td>24527</td>\n",
              "      <td>45</td>\n",
              "      <td>001</td>\n",
              "    </tr>\n",
              "    <tr>\n",
              "      <th>1</th>\n",
              "      <td>2020-07-08</td>\n",
              "      <td>22001.0</td>\n",
              "      <td>1094</td>\n",
              "      <td>44</td>\n",
              "      <td>Acadia, Louisiana</td>\n",
              "      <td>94.700707541</td>\n",
              "      <td>62045</td>\n",
              "      <td>22</td>\n",
              "      <td>001</td>\n",
              "    </tr>\n",
              "    <tr>\n",
              "      <th>2</th>\n",
              "      <td>2020-07-08</td>\n",
              "      <td>51001.0</td>\n",
              "      <td>1042</td>\n",
              "      <td>14</td>\n",
              "      <td>Accomack, Virginia</td>\n",
              "      <td>71.923561531</td>\n",
              "      <td>32316</td>\n",
              "      <td>51</td>\n",
              "      <td>001</td>\n",
              "    </tr>\n",
              "    <tr>\n",
              "      <th>3</th>\n",
              "      <td>2020-07-08</td>\n",
              "      <td>16001.0</td>\n",
              "      <td>3431</td>\n",
              "      <td>23</td>\n",
              "      <td>Ada, Idaho</td>\n",
              "      <td>457.77677936</td>\n",
              "      <td>481587</td>\n",
              "      <td>16</td>\n",
              "      <td>001</td>\n",
              "    </tr>\n",
              "  </tbody>\n",
              "</table>\n",
              "</div>"
            ],
            "text/plain": [
              "         date     fips  cases  deaths  ...       density     pop state county\n",
              "0  2020-07-08  45001.0    137       1  ...  49.909760456   24527    45    001\n",
              "1  2020-07-08  22001.0   1094      44  ...  94.700707541   62045    22    001\n",
              "2  2020-07-08  51001.0   1042      14  ...  71.923561531   32316    51    001\n",
              "3  2020-07-08  16001.0   3431      23  ...  457.77677936  481587    16    001\n",
              "\n",
              "[4 rows x 9 columns]"
            ]
          },
          "metadata": {
            "tags": []
          },
          "execution_count": 45
        }
      ]
    },
    {
      "cell_type": "code",
      "metadata": {
        "id": "DkI0WHM_Ps11",
        "colab_type": "code",
        "colab": {
          "base_uri": "https://localhost:8080/",
          "height": 297
        },
        "outputId": "344303e3-f43d-4c05-dc7a-e5380b2ea333"
      },
      "source": [
        "import math \n",
        "merged['log_case_density'] = merged['cases'].apply(lambda x: math.log(x)) - merged['pop'].apply(lambda x: math.log(float(x)))\n",
        "merged['log_density'] = merged['density'].apply(lambda x: math.log(float(x)))\n",
        "merged.plot.scatter(x='log_density',y='log_case_density')"
      ],
      "execution_count": 62,
      "outputs": [
        {
          "output_type": "execute_result",
          "data": {
            "text/plain": [
              "<matplotlib.axes._subplots.AxesSubplot at 0x7f874432fac8>"
            ]
          },
          "metadata": {
            "tags": []
          },
          "execution_count": 62
        },
        {
          "output_type": "display_data",
          "data": {
            "image/png": "[encoded data removed]",
            "text/plain": [
              "<Figure size 432x288 with 1 Axes>"
            ]
          },
          "metadata": {
            "tags": [],
            "needs_background": "light"
          }
        }
      ]
    }
  ]
}